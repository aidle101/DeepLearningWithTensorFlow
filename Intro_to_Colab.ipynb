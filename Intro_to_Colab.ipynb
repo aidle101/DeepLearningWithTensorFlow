{
  "nbformat": 4,
  "nbformat_minor": 0,
  "metadata": {
    "accelerator": "GPU",
    "colab": {
      "name": "Intro_to_Colab.ipynb",
      "provenance": [],
      "collapsed_sections": [],
      "toc_visible": true
    },
    "kernelspec": {
      "display_name": "Python 3",
      "name": "python3"
    }
  },
  "cells": [
    {
      "cell_type": "markdown",
      "metadata": {
        "id": "YHI3vyhv5p85"
      },
      "source": [
        "## **Introduction to Colab and Python**"
      ]
    },
    {
      "cell_type": "markdown",
      "metadata": {
        "id": "F8YVA_634OFk"
      },
      "source": [
        "**Welcome to Colab!**"
      ]
    },
    {
      "cell_type": "markdown",
      "metadata": {
        "id": "X4SjbCSdRJKj"
      },
      "source": [
        "We will give you a short introduction to the Python programming language and the environment used for the course's activities: *Colab*.\n",
        "\n",
        "Colab is a Python development environment that runs in the browser using Google Cloud.\n",
        "\n",
        "In Colab there exists two kinds of cells: This one here is a text (markdown) cell. There other type is a code cell which you see below.\n",
        "\n",
        "For example, to print \"Hello World\", just hover the mouse over [ ] on the left side of the code cell below and press the play button to the upper left. Or click into the cell and press the shift key and the enter key simultaneously to execute."
      ]
    },
    {
      "cell_type": "code",
      "metadata": {
        "id": "X9uIpOS2zx7k",
        "outputId": "94aa97c7-9e88-440a-f38e-fdeb82792ff4",
        "colab": {
          "base_uri": "https://localhost:8080/",
          "height": 35
        }
      },
      "source": [
        "print(\"Hello World\")"
      ],
      "execution_count": 1,
      "outputs": [
        {
          "output_type": "stream",
          "text": [
            "Hello World\n"
          ],
          "name": "stdout"
        }
      ]
    },
    {
      "cell_type": "markdown",
      "metadata": {
        "id": "an8XM6uGR1yr"
      },
      "source": [
        "You just code normal python code in the code cells and execute it. The result of the last code line will be displayed"
      ]
    },
    {
      "cell_type": "code",
      "metadata": {
        "id": "H3pkXJwSR0EU",
        "outputId": "9e52b4dc-692b-4b34-d1b3-ca3f27e4bf72",
        "colab": {
          "base_uri": "https://localhost:8080/",
          "height": 35
        }
      },
      "source": [
        "1+1"
      ],
      "execution_count": 2,
      "outputs": [
        {
          "output_type": "execute_result",
          "data": {
            "text/plain": [
              "2"
            ]
          },
          "metadata": {
            "tags": []
          },
          "execution_count": 2
        }
      ]
    },
    {
      "cell_type": "markdown",
      "metadata": {
        "id": "wwJGmDrQ0EoB"
      },
      "source": [
        "## Functions, Conditionals, and Iteration\n",
        "Let's create a Python function, and call it from a loop."
      ]
    },
    {
      "cell_type": "code",
      "metadata": {
        "id": "pRllo2HLfXiu",
        "outputId": "ea9eb1d8-9f4a-4ebd-9748-65820a4df67a",
        "colab": {
          "base_uri": "https://localhost:8080/",
          "height": 277
        }
      },
      "source": [
        "def x_cubed(x):\n",
        "  return x * x * x\n",
        "\n",
        "for i in range(1, 10, 2):  # i=1, 3, 5, 7, 9 (start, stop, step) stop value is not included\n",
        "  print(\"- {}. round - now running with i: {}\".format(i//2+1,i))\n",
        "  r = x_cubed(i)\n",
        "  print(\"Result from x^3: {}\\n\".format(r))"
      ],
      "execution_count": 8,
      "outputs": [
        {
          "output_type": "stream",
          "text": [
            "- 1. round - now running with i: 1\n",
            "Result from x^3: 1\n",
            "\n",
            "- 2. round - now running with i: 3\n",
            "Result from x^3: 27\n",
            "\n",
            "- 3. round - now running with i: 5\n",
            "Result from x^3: 125\n",
            "\n",
            "- 4. round - now running with i: 7\n",
            "Result from x^3: 343\n",
            "\n",
            "- 5. round - now running with i: 9\n",
            "Result from x^3: 729\n",
            "\n"
          ],
          "name": "stdout"
        }
      ]
    },
    {
      "cell_type": "markdown",
      "metadata": {
        "id": "kiZG7uhm8qCF"
      },
      "source": [
        "Easy, right?\n",
        "\n",
        "If you want a loop starting at 0 to 2 (exclusive) you could do any of the following"
      ]
    },
    {
      "cell_type": "code",
      "metadata": {
        "id": "m8YQN1H41L-Y",
        "outputId": "8cea01bb-eec2-4858-9b83-6e6fa697763d",
        "colab": {
          "base_uri": "https://localhost:8080/",
          "height": 173
        }
      },
      "source": [
        "print(\"Iterate over the items. 'range(2)' is like a list [0,1].\")\n",
        "for i in range(2):\n",
        "  print(i)\n",
        "\n",
        "print(\"Iterate over an actual list.\")\n",
        "for i in [0,1]:\n",
        "  print(i)\n",
        "\n",
        "print(\"While works\")\n",
        "i = 0\n",
        "while i < 2:\n",
        "  print(i)\n",
        "  i += 1"
      ],
      "execution_count": 10,
      "outputs": [
        {
          "output_type": "stream",
          "text": [
            "Iterate over the items. 'range(2)' is like a list [0,1].\n",
            "0\n",
            "1\n",
            "Iterate over an actual list.\n",
            "0\n",
            "1\n",
            "While works\n",
            "0\n",
            "1\n"
          ],
          "name": "stdout"
        }
      ]
    },
    {
      "cell_type": "markdown",
      "metadata": {
        "id": "5QyOUhFw1OUX"
      },
      "source": [
        "## Numpy and lists\n",
        "Python has lists to store values together directly built into the language.\n",
        "However, we will use a library called numpy for our computations.\n",
        "Numpy gives us a lot of useful functions for doing Deep Learning and Machine Learning.\n",
        "\n",
        "Here, you will also see an import statement. This statement makes the entire numpy package available and we can access those symbols using the abbreviated 'np' syntax."
      ]
    },
    {
      "cell_type": "code",
      "metadata": {
        "id": "4Dxk4q-jzEy4",
        "outputId": "ca4714b4-057e-4375-e87c-69d3fd270558",
        "colab": {
          "base_uri": "https://localhost:8080/",
          "height": 104
        }
      },
      "source": [
        "import numpy as np  # Make numpy available using np.\n",
        "\n",
        "# Create a 1D numpy array, and append an element\n",
        "a = np.array([1,2,3])\n",
        "a = np.append(a, 4)\n",
        "print(\"1D array:\")\n",
        "print(a)\n",
        "\n",
        "# Create a 2D numpy array\n",
        "b= np.array([[1,2],[3,4]])\n",
        "\n",
        "print(\"2D array:\")\n",
        "print(b)"
      ],
      "execution_count": 20,
      "outputs": [
        {
          "output_type": "stream",
          "text": [
            "1D array:\n",
            "[1 2 3 4]\n",
            "2D array:\n",
            "[[1 2]\n",
            " [3 4]]\n"
          ],
          "name": "stdout"
        }
      ]
    },
    {
      "cell_type": "code",
      "metadata": {
        "id": "VaXTxrMMWWUF",
        "outputId": "670265c6-907f-4cc3-f0e9-314b4af36f26",
        "colab": {
          "base_uri": "https://localhost:8080/",
          "height": 52
        }
      },
      "source": [
        "#indexing numpy arrays arrayname[x,y]\n",
        "print(b[0,0])\n",
        "print(b[0,1])"
      ],
      "execution_count": 21,
      "outputs": [
        {
          "output_type": "stream",
          "text": [
            "1\n",
            "2\n"
          ],
          "name": "stdout"
        }
      ]
    },
    {
      "cell_type": "code",
      "metadata": {
        "id": "RTa8_9G3LV03",
        "outputId": "fd783e1d-f518-4be5-a6a0-1db25be6d998",
        "colab": {
          "base_uri": "https://localhost:8080/",
          "height": 104
        }
      },
      "source": [
        "print(\"\\nShowing some basic math on arrays\")\n",
        "c = np.array([0,1,4,3,2])\n",
        "print(\"Max: {}\".format(np.max(b)))\n",
        "print(\"Average: {}\".format(np.average(b)))\n",
        "print(\"Max index: {}\".format(np.argmax(b)))"
      ],
      "execution_count": 22,
      "outputs": [
        {
          "output_type": "stream",
          "text": [
            "\n",
            "Showing some basic math on arrays\n",
            "Max: 4\n",
            "Average: 2.5\n",
            "Max index: 3\n"
          ],
          "name": "stdout"
        }
      ]
    },
    {
      "cell_type": "code",
      "metadata": {
        "id": "V6ilVhi9LXn_",
        "outputId": "0ce6445e-930e-4691-b2b5-d616c332ac19",
        "colab": {
          "base_uri": "https://localhost:8080/",
          "height": 104
        }
      },
      "source": [
        "print(\"\\nUse numpy to create a [3,3] dimension array with random number\")\n",
        "d = np.random.rand(3, 3)\n",
        "print(d)"
      ],
      "execution_count": 24,
      "outputs": [
        {
          "output_type": "stream",
          "text": [
            "\n",
            "Use numpy to create a [3,3] dimension array with random number\n",
            "[[0.47341676 0.49379487 0.40657184]\n",
            " [0.84450555 0.70311934 0.17756147]\n",
            " [0.31973831 0.29098035 0.58399254]]\n"
          ],
          "name": "stdout"
        }
      ]
    },
    {
      "cell_type": "code",
      "metadata": {
        "id": "W_Q-DkFCLYGA",
        "outputId": "3cad2354-3df4-43e5-c8bb-3e69110af691",
        "colab": {
          "base_uri": "https://localhost:8080/",
          "height": 69
        }
      },
      "source": [
        "print(\"\\nYou can print the dimensions of arrays\")\n",
        "print(\"Shape of d: {}\".format(d.shape))\n"
      ],
      "execution_count": 25,
      "outputs": [
        {
          "output_type": "stream",
          "text": [
            "\n",
            "You can print the dimensions of arrays\n",
            "Shape of d: (3, 3)\n"
          ],
          "name": "stdout"
        }
      ]
    },
    {
      "cell_type": "markdown",
      "metadata": {
        "id": "c-Jk4dG91dvD"
      },
      "source": [
        "## Colab Operations"
      ]
    },
    {
      "cell_type": "markdown",
      "metadata": {
        "id": "G0cGd8sHEmKi"
      },
      "source": [
        "Colab is a virtual machine you can access directly. To run commands at the VM's terminal, prefix the line with an exclamation mark -> *! commandname* . See examples below ->\n"
      ]
    },
    {
      "cell_type": "code",
      "metadata": {
        "id": "cLkfhyzq0W2y",
        "outputId": "0c0a1c7f-f563-4f84-8a23-3e234a0ace86",
        "colab": {
          "base_uri": "https://localhost:8080/",
          "height": 87
        }
      },
      "source": [
        "print(\"\\nDoing $ls on filesystem\")\n",
        "!ls\n",
        "!pwd"
      ],
      "execution_count": 28,
      "outputs": [
        {
          "output_type": "stream",
          "text": [
            "\n",
            "Doing $ls on filesystem\n",
            "sample_data\n",
            "/content\n"
          ],
          "name": "stdout"
        }
      ]
    },
    {
      "cell_type": "code",
      "metadata": {
        "id": "gR2WTN1cOZ1n",
        "outputId": "287837d2-5309-44ab-e979-547acbf3d98d",
        "colab": {
          "base_uri": "https://localhost:8080/",
          "height": 52
        }
      },
      "source": [
        "print(\"Install numpy\")  # Just for test, numpy is actually preinstalled in all Colab instances\n",
        "!pip install numpy"
      ],
      "execution_count": 29,
      "outputs": [
        {
          "output_type": "stream",
          "text": [
            "Install numpy\n",
            "Requirement already satisfied: numpy in /usr/local/lib/python3.6/dist-packages (1.18.5)\n"
          ],
          "name": "stdout"
        }
      ]
    },
    {
      "cell_type": "markdown",
      "metadata": {
        "id": "7b5jv0ouFREV"
      },
      "source": [
        "All usage of Colab in this course is completely free! Even GPU usage is provided free of charge for some hours of usage every day.\n",
        "\n",
        "**Using GPUs**\n",
        "* Many of the activities in this course executes much more quickly by using GPU runtime: Runtime | Change runtime type | Hardware accelerator | GPU\n",
        "* Attention: If you change the runtime to GPU all code have to be reexecuted. So have your results in a file if you want to keep them.\n",
        "\n",
        "**Some final words on Colab**\n",
        "*   You execute each cell in order, you can edit & re-execute cells if you want\n",
        "*   Sometimes, this could have unintended consequences. For example, if you add a dimension to an array and execute the cell multiple times, then the cells after may not work. If you encounter problem reset your environment:\n",
        "  *   Runtime -> Restart runtime... Resets your Python shell\n",
        "  *   Runtime -> Restart all runtimes... Will reset the Colab image, and get you back to a 100% clean environment\n",
        "* You can also clear the output in the Colab by doing: Edit -> Clear all outputs\n",
        "* Colab notebooks in this course are loaded from GitHub. Save to your Google Drive if you want a copy with your code/output: File -> Save a copy in Drive...\n"
      ]
    }
  ]
}